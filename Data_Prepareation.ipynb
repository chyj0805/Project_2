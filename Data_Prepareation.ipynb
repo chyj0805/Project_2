{
  "nbformat": 4,
  "nbformat_minor": 0,
  "metadata": {
    "colab": {
      "provenance": [],
      "authorship_tag": "ABX9TyMXcQKBSJtfnpQQZnXA1KL3",
      "include_colab_link": true
    },
    "kernelspec": {
      "name": "python3",
      "display_name": "Python 3"
    },
    "language_info": {
      "name": "python"
    }
  },
  "cells": [
    {
      "cell_type": "markdown",
      "metadata": {
        "id": "view-in-github",
        "colab_type": "text"
      },
      "source": [
        "<a href=\"https://colab.research.google.com/github/chyj0805/Project_2/blob/Yujie-branch/Data_Prepareation.ipynb\" target=\"_parent\"><img src=\"https://colab.research.google.com/assets/colab-badge.svg\" alt=\"Open In Colab\"/></a>"
      ]
    },
    {
      "cell_type": "code",
      "execution_count": 3,
      "metadata": {
        "colab": {
          "base_uri": "https://localhost:8080/"
        },
        "id": "ASE51c8h4xhv",
        "outputId": "d8340660-74a5-444d-884a-c2827b922432"
      },
      "outputs": [
        {
          "output_type": "stream",
          "name": "stdout",
          "text": [
            "Data saved to IYW_historical_data.csv\n"
          ]
        }
      ],
      "source": [
        "import requests\n",
        "import pandas as pd\n",
        "\n",
        "def get_stock_historical_data(api_key, stock_symbol):\n",
        "    # Define the base URL and API parameters\n",
        "    base_url = \"https://www.alphavantage.co/query\"\n",
        "    function = \"TIME_SERIES_DAILY\"\n",
        "    outputsize = \"full\"\n",
        "    datatype = \"json\"\n",
        "    params = {\n",
        "        \"function\": function,\n",
        "        \"symbol\": stock_symbol,\n",
        "        \"outputsize\": outputsize,\n",
        "        \"datatype\": datatype,\n",
        "        \"apikey\": api_key\n",
        "    }\n",
        "\n",
        "    # Send API request and get JSON response\n",
        "    response = requests.get(base_url, params=params)\n",
        "    data = response.json()\n",
        "\n",
        "    # Extract daily time series data\n",
        "    time_series = data[\"Time Series (Daily)\"]\n",
        "\n",
        "    data_list = []\n",
        "    for date, details in time_series.items():\n",
        "        # Extract individual data points for each day\n",
        "        row = {\n",
        "            \"Date\": date,\n",
        "            \"Open\": details[\"1. open\"],\n",
        "            \"High\": details[\"2. high\"],\n",
        "            \"Low\": details[\"3. low\"],\n",
        "            \"Close\": details[\"4. close\"],\n",
        "            \"Volume\": details[\"5. volume\"]\n",
        "        }\n",
        "        data_list.append(row)\n",
        "\n",
        "    # Create a Pandas DataFrame\n",
        "    df = pd.DataFrame(data_list)\n",
        "    df[\"Date\"] = pd.to_datetime(df[\"Date\"])\n",
        "    df = df.sort_values(by=\"Date\")\n",
        "\n",
        "    # Save DataFrame to a CSV file\n",
        "    csv_filename = f\"{stock_symbol}_historical_data.csv\"\n",
        "    df.to_csv(csv_filename, index=False)\n",
        "\n",
        "    print(f\"Data saved to {csv_filename}\")\n",
        "\n",
        "# Example usage: Replace 'api_key' and 'stock_symbol' with your actual values\n",
        "api_key = \"4FHTO2GAT3NL1EZ8\"\n",
        "stock_symbol = \"IYW\"\n",
        "get_stock_historical_data(api_key, stock_symbol)"
      ]
    },
    {
      "cell_type": "code",
      "source": [],
      "metadata": {
        "id": "S71ra5LA45-9"
      },
      "execution_count": null,
      "outputs": []
    }
  ]
}