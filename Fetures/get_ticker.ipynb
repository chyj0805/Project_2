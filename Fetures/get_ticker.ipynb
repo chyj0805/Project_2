{
 "cells": [
  {
   "cell_type": "code",
   "execution_count": null,
   "id": "bbfd572a-b007-45dc-91e2-cc01790d4e5f",
   "metadata": {},
   "outputs": [],
   "source": [
    "# Base funtion to get stock data"
   ]
  },
  {
   "cell_type": "code",
   "execution_count": null,
   "id": "67f27be6-4a07-4556-9c90-469f4856e647",
   "metadata": {},
   "outputs": [],
   "source": [
    "import requests\n",
    "import pandas as pd\n",
    "\n",
    "def get_stock_historical_data(api_key, stock_symbol):\n",
    "    # Define the base URL and API parameters\n",
    "    base_url = \"https://www.alphavantage.co/query\"\n",
    "    function = \"TIME_SERIES_DAILY\"\n",
    "    outputsize = \"full\"\n",
    "    datatype = \"json\"\n",
    "    params = {\n",
    "        \"function\": function,\n",
    "        \"symbol\": stock_symbol,\n",
    "        \"outputsize\": outputsize,\n",
    "        \"datatype\": datatype,\n",
    "        \"apikey\": api_key\n",
    "    }\n",
    "\n",
    "    # Send API request and get JSON response\n",
    "    response = requests.get(base_url, params=params)\n",
    "    data = response.json()\n",
    "\n",
    "    # Extract daily time series data\n",
    "    time_series = data[\"Time Series (Daily)\"]\n",
    "\n",
    "    data_list = []\n",
    "    for date, details in time_series.items():\n",
    "        # Extract individual data points for each day\n",
    "        row = {\n",
    "            \"Date\": date,\n",
    "            \"Open\": details[\"1. open\"],\n",
    "            \"High\": details[\"2. high\"],\n",
    "            \"Low\": details[\"3. low\"],\n",
    "            \"Close\": details[\"4. close\"],\n",
    "            \"Volume\": details[\"5. volume\"]\n",
    "        }\n",
    "        data_list.append(row)\n",
    "\n",
    "    # Create a Pandas DataFrame\n",
    "    df = pd.DataFrame(data_list)\n",
    "    df[\"Date\"] = pd.to_datetime(df[\"Date\"])\n",
    "    df = df.sort_values(by=\"Date\")\n",
    "\n",
    "    # Save DataFrame to a CSV file\n",
    "    csv_filename = f\"{stock_symbol}_historical_data.csv\"\n",
    "    df.to_csv(csv_filename, index=False)\n",
    "\n",
    "    print(f\"Data saved to {csv_filename}\")\n",
    "\n",
    "# Example usage: Replace 'api_key' and 'stock_symbol' with your actual values\n",
    "api_key = \"YOUR_API_KEY\"\n",
    "stock_symbol = \"AAPL\"\n",
    "get_stock_historical_data(api_key, stock_symbol)\n"
   ]
  }
 ],
 "metadata": {
  "kernelspec": {
   "display_name": "Python 3 (ipykernel)",
   "language": "python",
   "name": "python3"
  },
  "language_info": {
   "codemirror_mode": {
    "name": "ipython",
    "version": 3
   },
   "file_extension": ".py",
   "mimetype": "text/x-python",
   "name": "python",
   "nbconvert_exporter": "python",
   "pygments_lexer": "ipython3",
   "version": "3.11.3"
  }
 },
 "nbformat": 4,
 "nbformat_minor": 5
}
