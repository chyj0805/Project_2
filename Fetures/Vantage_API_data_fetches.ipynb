{
  "nbformat": 4,
  "nbformat_minor": 0,
  "metadata": {
    "colab": {
      "provenance": [],
      "authorship_tag": "ABX9TyPuURWfIRn7vPhBMV1xgqrh",
      "include_colab_link": true
    },
    "kernelspec": {
      "name": "python3",
      "display_name": "Python 3"
    },
    "language_info": {
      "name": "python"
    }
  },
  "cells": [
    {
      "cell_type": "markdown",
      "metadata": {
        "id": "view-in-github",
        "colab_type": "text"
      },
      "source": [
        "<a href=\"https://colab.research.google.com/github/chyj0805/Project_2/blob/main/Fetures/Vantage_API_data_fetches.ipynb\" target=\"_parent\"><img src=\"https://colab.research.google.com/assets/colab-badge.svg\" alt=\"Open In Colab\"/></a>"
      ]
    },
    {
      "cell_type": "code",
      "source": [
        "!pip install python-dotenv"
      ],
      "metadata": {
        "id": "dcCYTQAG7kCs",
        "colab": {
          "base_uri": "https://localhost:8080/"
        },
        "outputId": "2ff1f088-44cb-4d56-b941-6566f0dee639"
      },
      "execution_count": 1,
      "outputs": [
        {
          "output_type": "stream",
          "name": "stdout",
          "text": [
            "Collecting python-dotenv\n",
            "  Downloading python_dotenv-1.0.0-py3-none-any.whl (19 kB)\n",
            "Installing collected packages: python-dotenv\n",
            "Successfully installed python-dotenv-1.0.0\n"
          ]
        }
      ]
    },
    {
      "cell_type": "code",
      "source": [
        "import os\n",
        "from dotenv import load_dotenv\n",
        "\n",
        "# Load the environment variable file\n",
        "load_dotenv()\n",
        "\n",
        "# Get the API key\n",
        "api_key = os.environ.get(\"ALPHA_VANTAGE_API_KEY\")\n",
        "\n",
        "if api_key is None:\n",
        "    raise ValueError(\"Alpha Vantage API key is not set in the environment.\")"
      ],
      "metadata": {
        "id": "sYJ_xom6iODZ"
      },
      "execution_count": 3,
      "outputs": []
    },
    {
      "cell_type": "code",
      "source": [
        "import requests\n",
        "import pandas as pd\n",
        "import os\n",
        "\n",
        "def get_stock_historical_data(api_key, stock_symbol):\n",
        "    base_url = \"https://www.alphavantage.co/query\"\n",
        "    params = {\n",
        "        \"function\": \"TIME_SERIES_DAILY\",\n",
        "        \"symbol\": stock_symbol,\n",
        "        \"apikey\": api_key,\n",
        "        \"outputsize\": \"full\",\n",
        "        \"datatype\": \"json\"\n",
        "    }\n",
        "\n",
        "    response = requests.get(base_url, params=params)\n",
        "    data = response.json()\n",
        "\n",
        "    print(data)  # Debug line\n",
        "\n",
        "    if \"Time Series (Daily)\" not in data:\n",
        "        print(\"Error fetching data. Check your API key and stock symbol.\")\n",
        "        print(data)\n",
        "        return\n",
        "\n",
        "    time_series = data[\"Time Series (Daily)\"]\n",
        "    data_list = []\n",
        "\n",
        "    for date, details in time_series.items():\n",
        "        row = {\n",
        "            \"Date\": date,\n",
        "            \"Open\": details[\"1. open\"],\n",
        "            \"High\": details[\"2. high\"],\n",
        "            \"Low\": details[\"3. low\"],\n",
        "            \"Close\": details[\"4. close\"],\n",
        "            \"Volume\": details[\"5. volume\"]\n",
        "        }\n",
        "        data_list.append(row)\n",
        "\n",
        "    df = pd.DataFrame(data_list)\n",
        "    df[\"Date\"] = pd.to_datetime(df[\"Date\"])\n",
        "    df = df.sort_values(by=\"Date\")\n",
        "\n",
        "    csv_filename = f\"{stock_symbol}_historical_data.csv\"\n",
        "    df.to_csv(csv_filename, index=False)\n",
        "    print(f\"Data saved to {csv_filename}\")\n",
        "\n",
        "api_key = os.environ.get(\"ALPHA_VANTAGE_API_KEY\")\n",
        "if api_key is None:\n",
        "    raise ValueError(\"Alpha Vantage API key is not set in the environment.\")\n",
        "\n",
        "stock_symbol = \"IYE\"\n",
        "get_stock_historical_data(api_key, stock_symbol)"
      ],
      "metadata": {
        "id": "bSASjwGpiVeZ"
      },
      "execution_count": null,
      "outputs": []
    },
    {
      "cell_type": "code",
      "source": [
        "def get_MACD_data(api_key, stock_symbol, interval=\"daily\", series_type=\"close\"):\n",
        "    base_url = \"https://www.alphavantage.co/query\"\n",
        "    params = {\n",
        "        \"function\": \"MACD\",\n",
        "        \"symbol\": stock_symbol,\n",
        "        \"interval\": interval,\n",
        "        \"series_type\": series_type,\n",
        "        \"apikey\": api_key,\n",
        "        \"datatype\": \"json\"\n",
        "    }\n",
        "\n",
        "    # Make the API request and fetch the data\n",
        "    response = requests.get(base_url, params=params)\n",
        "    data = response.json()\n",
        "\n",
        "    # Debug line to print the data\n",
        "    print(data)\n",
        "\n",
        "    # Check if the MACD data is present in the response\n",
        "    if \"Technical Analysis: MACD\" not in data:\n",
        "        print(\"Error fetching MACD data. Check your API key and stock symbol.\")\n",
        "        print(data)\n",
        "        return\n",
        "\n",
        "    # Extract and process the MACD data\n",
        "    macd_series = data[\"Technical Analysis: MACD\"]\n",
        "    macd_list = []\n",
        "    for date, details in macd_series.items():\n",
        "        row = {\n",
        "            \"Date\": date,\n",
        "            \"MACD_Signal\": details[\"MACD_Signal\"],\n",
        "            \"MACD_Hist\": details[\"MACD_Hist\"],\n",
        "            \"MACD\": details[\"MACD\"]\n",
        "        }\n",
        "        macd_list.append(row)\n",
        "\n",
        "    # Convert the list of MACD data to a DataFrame\n",
        "    df = pd.DataFrame(macd_list)\n",
        "    df[\"Date\"] = pd.to_datetime(df[\"Date\"])\n",
        "    df = df.sort_values(by=\"Date\")\n",
        "\n",
        "    # Save the MACD data to a CSV file\n",
        "    csv_filename = f\"{stock_symbol}_MACD_data.csv\"\n",
        "    df.to_csv(csv_filename, index=False)\n",
        "    print(f\"MACD data saved to {csv_filename}\")\n",
        "\n",
        "# Check if the API key is set in the environment\n",
        "api_key = os.environ.get(\"ALPHA_VANTAGE_API_KEY\")\n",
        "if api_key is None:\n",
        "    raise ValueError(\"Alpha Vantage API key is not set in the environment.\")\n",
        "\n",
        "# Define the stock symbol for which to fetch the MACD data\n",
        "stock_symbol = \"IYE\"\n",
        "\n",
        "# Call the function to fetch and save the MACD data\n",
        "get_MACD_data(api_key, stock_symbol)"
      ],
      "metadata": {
        "id": "nr5FktBxieYU"
      },
      "execution_count": null,
      "outputs": []
    }
  ]
}